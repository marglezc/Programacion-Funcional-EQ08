{
 "cells": [
  {
   "cell_type": "markdown",
   "id": "3a070ea5-ce83-4f80-82ff-3889faa1ac59",
   "metadata": {},
   "source": [
    "## **Ejercicio 1**\n",
    "\n",
    "**combinatorio**\n",
    "\n",
    "Defina una función para la evaluación del número combinatorio C(n,k), que utiliza la definición recursiva.\n",
    "\n",
    "### Entrada\n",
    "\n",
    "- **n** : número entero mayor o igual a 0. Número de elementos del conjunto.\n",
    "- **k** : número entero mayor o igual a 0. Numero de elementos distintos que se pueden extraer de un conjunto de n elementos.\n",
    "\n",
    "### Salida\n",
    "Número combinatorio.\n"
   ]
  },
  {
   "cell_type": "code",
   "execution_count": 11,
   "id": "b68cf78e-e27c-42f3-b34f-85cfce160134",
   "metadata": {},
   "outputs": [],
   "source": [
    "; Ejercicio 1\n",
    "(define (combinatorio n k)\n",
    "  (cond\n",
    "    ((or (= k 0) (= k n)) 1) \n",
    "    (else (+ (combinatorio (- n 1) (- k 1)) \n",
    "             (combinatorio (- n 1) k))))) \n"
   ]
  },
  {
   "cell_type": "markdown", 
   "id": "4a44876e-a34a-4993-b71b-5bcd6cd7fda2",
   "metadata": {},
   "source": [
    "## **Ejercicio 2**\n",
    "\n",
    "**mcd**\n",
    "\n",
    "Defina una función recursiva para calcular el Máximo Común Divisor de dos enteros negativos a y b con a < b usando el hecho de que MCD(a, b) = MCD(a, b-a).\n",
    "\n",
    "### Entrada\n",
    "- **a** : número entero negativo\n",
    "- **b** : número entero negativo\n",
    "\n",
    "### Salida\n",
    "Número entero máximo común divisor de a y b.\n"
   ]
  },
  {
   "cell_type": "code",
   "execution_count": 5,
   "id": "c5fe8df8-7e35-4f51-b2d7-00f7024cee2c",
   "metadata": {},
   "outputs": [],
   "source": [
    ";Ejercicio 2\n",
    "(define (mcd a b)\n",
    "  (cond\n",
    "    [(and (< a 0) (< b 0) (not (= a 0)) (not (= b 0)))\n",
    "     (mcd (- a) (- b))] \n",
    "    [(= a b) a]\n",
    "    [(= a 0) (error \"Ingrese un número distinto de cero\")]\n",
    "    [(= b 0) (error \"Ingrese un número distinto de cero\")]\n",
    "    [(< a b) (mcd a (- b a))] \n",
    "    [else (mcd b (- a b))]))  \n"
   ]
  },
  {
   "cell_type": "markdown",
   "id": "b9329ca7-4551-47e5-bae9-f2645655a02f",
   "metadata": {},
   "source": [
    "## **Ejercicio 3**\n",
    "\n",
    "**primos**\n",
    "\n",
    "Definir una función que devuelva, en una lista, todos los números primos desde un número inicial hasta un número final. Ejemplo: (primos 3 10) este ejemplo devolverá ‘(5 7).\n",
    "\n",
    "### Entrada\n",
    "- **inicio** : número inicial del intervalo de números que se evaluará\n",
    "- **final** : número final del intervalo de números que se evaluará\n",
    "\n",
    "### Salida\n",
    "Lista de todos los números primos dentro del intervalo\n"
   ]
  },
  {
   "cell_type": "code",
   "execution_count": 4,
   "id": "a0cfea21-d15f-4ee6-b408-a81333b3f8bb",
   "metadata": {},
   "outputs": [],
   "source": [
    ";Ejercicio 3\n",
    "(define (primo? n)\n",
    "  (cond\n",
    "    ((<= n 1) #f)\n",
    "    ((= n 2) #t) \n",
    "    (else\n",
    "      (let loop ((i 2))\n",
    "        (cond\n",
    "          ((> (* i i) n) #t) \n",
    "          ((zero? (remainder n i)) #f) \n",
    "          (else (loop (+ i 1)))))))) \n",
    "\n",
    "(define (primos inicio fin)\n",
    "  (filter primo? (range (add1 inicio) (add1 fin))))\n"
   ]
  },
  {
   "cell_type": "markdown",
   "id": "b3a44c27-6c33-45c3-9539-1dba73d81d5c",
   "metadata": {},
   "source": [
    "## **Ejercicio 4**\n",
    "\n",
    "**busca**\n",
    "\n",
    "Realizar una función para buscar un elemento en una lista, regresar #t si lo encontró y #f si no lo encontró.\n",
    "- Ejemplo de entrada: (busca 4 ‘(2 4 5))\n",
    "- Ejemplo de salida: #t\n",
    "\n",
    "### Entrada\n",
    "- **elemento** : elemento que se buscará en la lista. Puede ser de tipo entero, flotante, cadena de caractéres, booleano o lista.\n",
    "- **lista** : lista que puede contener o no el elemento que se buscará. La lista puede contener elementos de distintos tipos.\n",
    "\n",
    "### Salida\n",
    "\n",
    "Valor booleano que indicará si se encontró el elemento o no.\n",
    "- **#t** si se encontró el elemento.\n",
    "- **#f** si no se encontró el elemento.\n"
   ]
  },
  {
   "cell_type": "code",
   "execution_count": 3,
   "id": "8850abee-a3fa-4c27-924e-cc9657529c3b",
   "metadata": {},
   "outputs": [],
   "source": [
    "; Ejercicio 4\n",
    "(define (busca elemento lista)\n",
    "  (cond\n",
    "    ((null? lista) #f) \n",
    "    ((equal? (car lista) elemento) #t) \n",
    "    (else (busca elemento (cdr lista)))))"
   ]
  },
  {
   "cell_type": "markdown",
   "id": "d978ac85-d477-443c-a405-c3a7a0de0c9f",
   "metadata": {},
   "source": [
    "## **Ejercicio 5**\n",
    "\n",
    "**invierte**\n",
    "\n",
    "Realizar una función recursiva que invierta una lista.\n",
    "- Ejemplo de entrada: (invierte ‘(2 4 5))\n",
    "- Ejemplo de salida: (5 4 2)\n",
    "\n",
    "### Entrada\n",
    "- **lista** : lista que se quiere invertir. La lista puede contener elementos de distintos tipos.\n",
    "\n",
    "### Salida\n",
    "\n",
    "Lista invertida.\n"
   ]
  },
  {
   "cell_type": "code",
   "execution_count": 10,
   "id": "a1330845-fcb9-4183-a76d-dbd85d8d0ae4",
   "metadata": {},
   "outputs": [],
   "source": [
    "; Ejercicio 5\n",
    "(define (invierte lista)\n",
    "  (if (null? lista) '()\n",
    "      (append (invierte (cdr lista))\n",
    "              (list (car lista))))) "
   ]
  },
  {
   "cell_type": "markdown",
   "id": "e2a0b444-0e5c-4080-add9-4be03d548ac6",
   "metadata": {},
   "source": [
    "## **Ejercicio 6**\n",
    "\n",
    "**elimina**\n",
    "\n",
    "Realizar una función recursiva que elimine un elemento de una lista\n",
    "- Ejemplo de entrada: (elimina 4 ‘(2 4 5))\n",
    "- Ejemplo de salida: (2 5)\n",
    "\n",
    "### Entrada\n",
    "- **elemento** : elemento que se eliminará en la lista. Puede ser de tipo entero, flotante, cadena de caractéres, booleano o lista.\n",
    "- **lista** : lista que puede contener o no el elemento que se eliminará. La lista puede contener elementos de distintos tipos.\n",
    "\n",
    "### Salida\n",
    "\n",
    "Lista sin el elemento que se eliminó. En caso de que el elemento que se quiere eliminar no esté en la lista, la lista se mostrará sin cambios.\n"
   ]
  },
  {
   "cell_type": "code",
   "execution_count": 16,
   "id": "87a453b1-f6a7-4eac-90f6-4b2bfe98d053",
   "metadata": {},
   "outputs": [],
   "source": [
    "(define (elimina elemento lista)\n",
    "  (cond\n",
    "    ((null? lista) '())\n",
    "    ((= (car lista) elemento) (cdr lista)) \n",
    "    (else (cons (car lista) (elimina elemento (cdr lista))))))\n"
   ]
  },
  {
   "cell_type": "markdown",
   "id": "0fd39938-6011-41e1-ac27-35ca8c304a96",
   "metadata": {},
   "source": [
    "## **Ejercicio 7**\n",
    "\n",
    "**palindromo**\n",
    "\n",
    "Dado un número entero positivo, realizar una función recursiva que devuelva verdadero (#t) si el número dado es un palíndromo, en caso contrario, retornar falso (#f). Por ejemplo, 12321 es un palíndromo, pero 1451 no es un palíndromo. No use la función reverse de Racket.\n",
    "- Ejemplo de entrada: (palindromo 12321)\n",
    "- Ejemplo de salida: #t\n",
    "\n",
    "### Entrada\n",
    "- **num** : número entero que se verificará.\n",
    "\n",
    "### Salida\n",
    "\n",
    "Valor booleano que indicará si el número es palíndromo o no.\n",
    "- **#t** si es palíndromo.\n",
    "- **#f** si no es palíndromo.\n"
   ]
  },
  {
   "cell_type": "code",
   "execution_count": 37,
   "id": "7f40b576-7599-458f-ac25-ba6c2ae1d851",
   "metadata": {},
   "outputs": [],
   "source": [
    ";Ejercicio 7\n",
    "(define (palindromo num)\n",
    "  (define str (number->string num))\n",
    "  (cond\n",
    "    [(<= (string-length str) 1) #t] \n",
    "    [(char=? (string-ref str 0) (string-ref str (- (string-length str) 1)))\n",
    "     (palindromo (string->number (substring str 1 (- (string-length str) 1))))] \n",
    "    [else #f]))"
   ]
  },
  {
   "cell_type": "markdown",
   "id": "b876eb54-8ac1-4c77-ab44-c6f60f73afca",
   "metadata": {},
   "source": [
    "## **Ejercicio 8**\n",
    "\n",
    "**SumaDigitos**\n",
    "\n",
    "Realizar una función recursiva que, dado un número entero, encuentra la suma de sus dígitos. No use funciones incorporadas de Racket.\n",
    "- Ejemplo de entrada: (SumaDigitos 457)\n",
    "- Ejemplo de salida: 16\n",
    "\n",
    "### Entrada\n",
    "- **n** : número entero.\n",
    "\n",
    "### Salida\n",
    "\n",
    "Número entero suma de los dígitos del número de entrada.\n"
   ]
  },
  {
   "cell_type": "code",
   "execution_count": 40,
   "id": "dfc74a86-4406-47f4-89de-a307f74584c4",
   "metadata": {},
   "outputs": [],
   "source": [
    ";Ejercicio 8\n",
    "(define (SumaDigitos n)\n",
    "  (if (= n 0)\n",
    "      0\n",
    "      (+ (remainder n 10) (SumaDigitos (quotient n 10)))))"
   ]
  },
  {
   "cell_type": "markdown",
   "id": "86ffb188-169b-4f23-8582-e77b9db03b6a",
   "metadata": {},
   "source": [
    "## **Ejercicio 9**\n",
    "\n",
    "**Binario**\n",
    "\n",
    "Realizar una función recursiva que, dado un número entero decimal retorne el número \n",
    "binario equivalente. No use funciones incorporadas de Racket.\n",
    "- Ejemplo de entrada: (Binario 123)\n",
    "- Ejemplo de salida: 111101\n",
    "\n",
    "### Entrada\n",
    "- **num** : número entero mayor o igual a 0. Número decimal que se evaluará.\n",
    "\n",
    "### Salida\n",
    "\n",
    "Cadena con el número binario equivalente al número de entrada.\n"
   ]
  },
  {
   "cell_type": "code",
   "execution_count": 39,
   "id": "5eddcdf9-08fa-414c-8ec6-3a4f04549803",
   "metadata": {},
   "outputs": [],
   "source": [
    ";Ejercicio 9\n",
    "(define (decimal-a-binario n)\n",
    "  (if (= n 0)\n",
    "      '()\n",
    "      (append (decimal-a-binario (quotient n 2)) (list (remainder n 2)))))\n",
    "\n",
    "(define (lista-enteros-a-caracteres lst)\n",
    "  (map integer->char lst)) \n",
    "\n",
    "(define (Binario num)\n",
    "  (list->string (lista-enteros-a-caracteres (decimal-a-binario num))))"
   ]
  },
  {
   "cell_type": "markdown",
   "id": "eb91cca2-1b0d-4884-900f-208cb8582a32",
   "metadata": {},
   "source": [
    "## **Ejercicio 10**\n",
    "\n",
    "**LeibnitzPi**\n",
    "\n",
    "Utilizando la serie de Leibnitz y mediante una función recursiva, calcule el valor de PI.\n",
    "\n",
    "### Entrada\n",
    "- **n** : número entero mayor a 0. Número de iteraciones que se hará en la serie.\n",
    "\n",
    "### Salida\n",
    "\n",
    "Valor flotante estimado de PI después de n iteraciones.\n"
   ]
  },
  {
   "cell_type": "code",
   "execution_count": 38,
   "id": "c3514dc9-d348-4aef-a173-861ad822de2d",
   "metadata": {},
   "outputs": [],
   "source": [
    "; Ejercicio 10\n",
    "(define (leibnizPi n)\n",
    "  (define (leibnizTermino k)\n",
    "    (/ (expt -1 k) (+ (* 2 k) 1)))\n",
    "  \n",
    "  (define (leibnizSuma k)\n",
    "    (if (= k 0)\n",
    "        (leibnizTermino 0)\n",
    "        (+ (leibnizTermino k) (leibnizSuma (- k 1)))))\n",
    "  \n",
    "  (exact->inexact (* 4 (leibnizSuma n))))\n"
   ]
  },
  {
   "cell_type": "code",
   "execution_count": null,
   "id": "26b7e492-a6fc-4f67-8d86-818bde60a7b2",
   "metadata": {},
   "outputs": [],
   "source": []
  }
 ],
 "metadata": {
  "kernelspec": {
   "display_name": "Racket",
   "language": "racket",
   "name": "racket"
  },
  "language_info": {
   "codemirror_mode": "scheme",
   "file_extension": ".rkt",
   "mimetype": "text/x-racket",
   "name": "Racket",
   "pygments_lexer": "racket",
   "version": "8.12"
  }
 },
 "nbformat": 4,
 "nbformat_minor": 5
}
